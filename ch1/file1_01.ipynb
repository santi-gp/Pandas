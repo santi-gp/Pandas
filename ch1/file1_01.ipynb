{
 "cells": [
  {
   "cell_type": "markdown",
   "id": "e5202654",
   "metadata": {},
   "source": [
    "# Introducción a Pandas"
   ]
  },
  {
   "cell_type": "code",
   "execution_count": 104,
   "id": "1bc48140",
   "metadata": {},
   "outputs": [],
   "source": [
    "import pandas as pd\n",
    "import numpy as np"
   ]
  },
  {
   "cell_type": "markdown",
   "id": "6725e02a",
   "metadata": {},
   "source": [
    "## Crear serie"
   ]
  },
  {
   "cell_type": "code",
   "execution_count": 84,
   "id": "26c73c36",
   "metadata": {},
   "outputs": [
    {
     "data": {
      "text/plain": [
       "0    48\n",
       "1    47\n",
       "2    16\n",
       "dtype: int64"
      ]
     },
     "execution_count": 84,
     "metadata": {},
     "output_type": "execute_result"
    }
   ],
   "source": [
    "ser1=pd.Series([48, 47, 16])\n",
    "ser1\n"
   ]
  },
  {
   "cell_type": "code",
   "execution_count": 85,
   "id": "24f23b62",
   "metadata": {},
   "outputs": [
    {
     "data": {
      "text/plain": [
       "0                                 [16, 48]\n",
       "1                      [1.59, 1.55, Pesos]\n",
       "2                             [2007, 1974]\n",
       "3    {'hijo': 'Fabio', 'madre': 'Maribel'}\n",
       "dtype: object"
      ]
     },
     "execution_count": 85,
     "metadata": {},
     "output_type": "execute_result"
    }
   ],
   "source": [
    "ser2=pd.Series([[16, 48],\n",
    "              [1.59, 1.55, 'Pesos'],\n",
    "              [2007, 1974],\n",
    "              {'hijo':'Fabio', 'madre':'Maribel'}])\n",
    "ser2"
   ]
  },
  {
   "cell_type": "markdown",
   "id": "1bcc3fe4",
   "metadata": {},
   "source": [
    "## El objeto DataFrame"
   ]
  },
  {
   "cell_type": "code",
   "execution_count": 86,
   "id": "a4127ab0",
   "metadata": {},
   "outputs": [
    {
     "data": {
      "text/html": [
       "<div>\n",
       "<style scoped>\n",
       "    .dataframe tbody tr th:only-of-type {\n",
       "        vertical-align: middle;\n",
       "    }\n",
       "\n",
       "    .dataframe tbody tr th {\n",
       "        vertical-align: top;\n",
       "    }\n",
       "\n",
       "    .dataframe thead th {\n",
       "        text-align: right;\n",
       "    }\n",
       "</style>\n",
       "<table border=\"1\" class=\"dataframe\">\n",
       "  <thead>\n",
       "    <tr style=\"text-align: right;\">\n",
       "      <th></th>\n",
       "      <th>0</th>\n",
       "    </tr>\n",
       "  </thead>\n",
       "  <tbody>\n",
       "    <tr>\n",
       "      <th>0</th>\n",
       "      <td>1974</td>\n",
       "    </tr>\n",
       "    <tr>\n",
       "      <th>1</th>\n",
       "      <td>1975</td>\n",
       "    </tr>\n",
       "    <tr>\n",
       "      <th>2</th>\n",
       "      <td>2007</td>\n",
       "    </tr>\n",
       "  </tbody>\n",
       "</table>\n",
       "</div>"
      ],
      "text/plain": [
       "      0\n",
       "0  1974\n",
       "1  1975\n",
       "2  2007"
      ]
     },
     "execution_count": 86,
     "metadata": {},
     "output_type": "execute_result"
    }
   ],
   "source": [
    "df=pd.DataFrame([1974,1975,2007])\n",
    "df"
   ]
  },
  {
   "cell_type": "code",
   "execution_count": 17,
   "id": "f171aee9",
   "metadata": {},
   "outputs": [
    {
     "data": {
      "text/plain": [
       "(3, 1)"
      ]
     },
     "execution_count": 17,
     "metadata": {},
     "output_type": "execute_result"
    }
   ],
   "source": [
    "df.shape"
   ]
  },
  {
   "cell_type": "code",
   "execution_count": 87,
   "id": "5e3603b4",
   "metadata": {},
   "outputs": [
    {
     "name": "stdout",
     "output_type": "stream",
     "text": [
      "El número de columas es: [0]\n"
     ]
    },
    {
     "data": {
      "text/plain": [
       "RangeIndex(start=0, stop=1, step=1)"
      ]
     },
     "execution_count": 87,
     "metadata": {},
     "output_type": "execute_result"
    }
   ],
   "source": [
    "print('El número de columas es:', list(df.columns))\n",
    "df.columns"
   ]
  },
  {
   "cell_type": "code",
   "execution_count": 88,
   "id": "ab6a4757",
   "metadata": {},
   "outputs": [
    {
     "name": "stdout",
     "output_type": "stream",
     "text": [
      "El número de filas es: [0, 1, 2]\n"
     ]
    },
    {
     "data": {
      "text/plain": [
       "RangeIndex(start=0, stop=3, step=1)"
      ]
     },
     "execution_count": 88,
     "metadata": {},
     "output_type": "execute_result"
    }
   ],
   "source": [
    "print('El número de filas es:', list(df.index))\n",
    "df.index"
   ]
  },
  {
   "cell_type": "markdown",
   "id": "18512cda",
   "metadata": {},
   "source": [
    "#### Renombrar columnas y filas"
   ]
  },
  {
   "cell_type": "code",
   "execution_count": 89,
   "id": "c975d12a",
   "metadata": {},
   "outputs": [
    {
     "data": {
      "text/html": [
       "<div>\n",
       "<style scoped>\n",
       "    .dataframe tbody tr th:only-of-type {\n",
       "        vertical-align: middle;\n",
       "    }\n",
       "\n",
       "    .dataframe tbody tr th {\n",
       "        vertical-align: top;\n",
       "    }\n",
       "\n",
       "    .dataframe thead th {\n",
       "        text-align: right;\n",
       "    }\n",
       "</style>\n",
       "<table border=\"1\" class=\"dataframe\">\n",
       "  <thead>\n",
       "    <tr style=\"text-align: right;\">\n",
       "      <th></th>\n",
       "      <th>Año Nacimiento</th>\n",
       "    </tr>\n",
       "  </thead>\n",
       "  <tbody>\n",
       "    <tr>\n",
       "      <th>Maribel</th>\n",
       "      <td>1974</td>\n",
       "    </tr>\n",
       "    <tr>\n",
       "      <th>Ricardo</th>\n",
       "      <td>1975</td>\n",
       "    </tr>\n",
       "    <tr>\n",
       "      <th>Fabio</th>\n",
       "      <td>2007</td>\n",
       "    </tr>\n",
       "  </tbody>\n",
       "</table>\n",
       "</div>"
      ],
      "text/plain": [
       "         Año Nacimiento\n",
       "Maribel            1974\n",
       "Ricardo            1975\n",
       "Fabio              2007"
      ]
     },
     "execution_count": 89,
     "metadata": {},
     "output_type": "execute_result"
    }
   ],
   "source": [
    "df.columns=['Año Nacimiento']\n",
    "df\n",
    "df.index=['Maribel','Ricardo','Fabio']\n",
    "df"
   ]
  },
  {
   "cell_type": "markdown",
   "id": "896f213b",
   "metadata": {},
   "source": [
    "#### Crear DataFrame con multiples columnas"
   ]
  },
  {
   "cell_type": "code",
   "execution_count": 90,
   "id": "d2fd6031",
   "metadata": {},
   "outputs": [
    {
     "data": {
      "text/html": [
       "<div>\n",
       "<style scoped>\n",
       "    .dataframe tbody tr th:only-of-type {\n",
       "        vertical-align: middle;\n",
       "    }\n",
       "\n",
       "    .dataframe tbody tr th {\n",
       "        vertical-align: top;\n",
       "    }\n",
       "\n",
       "    .dataframe thead th {\n",
       "        text-align: right;\n",
       "    }\n",
       "</style>\n",
       "<table border=\"1\" class=\"dataframe\">\n",
       "  <thead>\n",
       "    <tr style=\"text-align: right;\">\n",
       "      <th></th>\n",
       "      <th>0</th>\n",
       "      <th>1</th>\n",
       "    </tr>\n",
       "  </thead>\n",
       "  <tbody>\n",
       "    <tr>\n",
       "      <th>0</th>\n",
       "      <td>Maribel</td>\n",
       "      <td>48</td>\n",
       "    </tr>\n",
       "    <tr>\n",
       "      <th>1</th>\n",
       "      <td>Fabio</td>\n",
       "      <td>16</td>\n",
       "    </tr>\n",
       "  </tbody>\n",
       "</table>\n",
       "</div>"
      ],
      "text/plain": [
       "         0   1\n",
       "0  Maribel  48\n",
       "1    Fabio  16"
      ]
     },
     "execution_count": 90,
     "metadata": {},
     "output_type": "execute_result"
    }
   ],
   "source": [
    "df_multiple=pd.DataFrame([['Maribel',48],['Fabio',16]])\n",
    "df_multiple"
   ]
  },
  {
   "cell_type": "code",
   "execution_count": 31,
   "id": "95ad4ac9",
   "metadata": {},
   "outputs": [
    {
     "data": {
      "text/plain": [
       "(2, 2)"
      ]
     },
     "execution_count": 31,
     "metadata": {},
     "output_type": "execute_result"
    }
   ],
   "source": [
    "df_multiple.shape"
   ]
  },
  {
   "cell_type": "markdown",
   "id": "b4ada354",
   "metadata": {},
   "source": [
    "#### También puede asignar los nombres de las columnas y las filas al crear el DataFrame."
   ]
  },
  {
   "cell_type": "code",
   "execution_count": 91,
   "id": "97bd6bad",
   "metadata": {},
   "outputs": [
    {
     "data": {
      "text/html": [
       "<div>\n",
       "<style scoped>\n",
       "    .dataframe tbody tr th:only-of-type {\n",
       "        vertical-align: middle;\n",
       "    }\n",
       "\n",
       "    .dataframe tbody tr th {\n",
       "        vertical-align: top;\n",
       "    }\n",
       "\n",
       "    .dataframe thead th {\n",
       "        text-align: right;\n",
       "    }\n",
       "</style>\n",
       "<table border=\"1\" class=\"dataframe\">\n",
       "  <thead>\n",
       "    <tr style=\"text-align: right;\">\n",
       "      <th></th>\n",
       "      <th>Nombre</th>\n",
       "      <th>Edad</th>\n",
       "    </tr>\n",
       "  </thead>\n",
       "  <tbody>\n",
       "    <tr>\n",
       "      <th>Madre</th>\n",
       "      <td>Maribel</td>\n",
       "      <td>48</td>\n",
       "    </tr>\n",
       "    <tr>\n",
       "      <th>Hijo</th>\n",
       "      <td>Fabio</td>\n",
       "      <td>16</td>\n",
       "    </tr>\n",
       "  </tbody>\n",
       "</table>\n",
       "</div>"
      ],
      "text/plain": [
       "        Nombre  Edad\n",
       "Madre  Maribel    48\n",
       "Hijo     Fabio    16"
      ]
     },
     "execution_count": 91,
     "metadata": {},
     "output_type": "execute_result"
    }
   ],
   "source": [
    "df_multiple=pd.DataFrame([['Maribel',48],['Fabio',16]],columns=['Nombre','Edad'],index=['Madre','Hijo'])\n",
    "df_multiple"
   ]
  },
  {
   "cell_type": "markdown",
   "id": "00a6605d",
   "metadata": {},
   "source": [
    "## Funciones útiles"
   ]
  },
  {
   "cell_type": "markdown",
   "id": "926ca4aa",
   "metadata": {},
   "source": [
    "#### Generar números aleatorios"
   ]
  },
  {
   "cell_type": "code",
   "execution_count": 92,
   "id": "fb995acb",
   "metadata": {},
   "outputs": [
    {
     "data": {
      "text/plain": [
       "array([ 2.16853281e+00,  2.84177215e+00,  1.51952947e+00,  3.24629926e+00,\n",
       "        2.89811816e+00,  1.69547852e+00, -1.38428644e-03,  2.25144549e+00])"
      ]
     },
     "execution_count": 92,
     "metadata": {},
     "output_type": "execute_result"
    }
   ],
   "source": [
    "A=np.random.normal(2,1,8)\n",
    "## np.random.normal() genera 8 números a partir de una distribución \n",
    "## normal con una media de 2 y una desviación estándar de 1.\n",
    "A"
   ]
  },
  {
   "cell_type": "markdown",
   "id": "5868e3fd",
   "metadata": {},
   "source": [
    "#### Concatenar varias series de datos mediante pd.concat()"
   ]
  },
  {
   "cell_type": "code",
   "execution_count": 93,
   "id": "476c7ce9",
   "metadata": {},
   "outputs": [
    {
     "data": {
      "text/html": [
       "<div>\n",
       "<style scoped>\n",
       "    .dataframe tbody tr th:only-of-type {\n",
       "        vertical-align: middle;\n",
       "    }\n",
       "\n",
       "    .dataframe tbody tr th {\n",
       "        vertical-align: top;\n",
       "    }\n",
       "\n",
       "    .dataframe thead th {\n",
       "        text-align: right;\n",
       "    }\n",
       "</style>\n",
       "<table border=\"1\" class=\"dataframe\">\n",
       "  <thead>\n",
       "    <tr style=\"text-align: right;\">\n",
       "      <th></th>\n",
       "      <th>0</th>\n",
       "      <th>0</th>\n",
       "      <th>0</th>\n",
       "    </tr>\n",
       "  </thead>\n",
       "  <tbody>\n",
       "    <tr>\n",
       "      <th>0</th>\n",
       "      <td>Xbox</td>\n",
       "      <td>254.99</td>\n",
       "      <td>Z</td>\n",
       "    </tr>\n",
       "    <tr>\n",
       "      <th>1</th>\n",
       "      <td>PlayStation</td>\n",
       "      <td>458.90</td>\n",
       "      <td>Y</td>\n",
       "    </tr>\n",
       "    <tr>\n",
       "      <th>2</th>\n",
       "      <td>Nintendo</td>\n",
       "      <td>369.99</td>\n",
       "      <td>X</td>\n",
       "    </tr>\n",
       "  </tbody>\n",
       "</table>\n",
       "</div>"
      ],
      "text/plain": [
       "             0       0  0\n",
       "0         Xbox  254.99  Z\n",
       "1  PlayStation  458.90  Y\n",
       "2     Nintendo  369.99  X"
      ]
     },
     "execution_count": 93,
     "metadata": {},
     "output_type": "execute_result"
    }
   ],
   "source": [
    "df1=pd.DataFrame(['Xbox','PlayStation','Nintendo' ])\n",
    "df2=pd.DataFrame([254.99, 458.90, 369.99 ])\n",
    "df3=pd.DataFrame({'X','Y','Z'})\n",
    "B=pd.concat([df1,df2,df3],axis=1)\n",
    "# El parámetro axis=1 especifica que la concatenación se hace a lo largo de las columnas.\n",
    "B"
   ]
  },
  {
   "cell_type": "markdown",
   "id": "8631f9dc",
   "metadata": {},
   "source": [
    "#### Las funciones numéricas df.sum , df.mean y divmod"
   ]
  },
  {
   "cell_type": "code",
   "execution_count": 94,
   "id": "92c1fa8d",
   "metadata": {},
   "outputs": [
    {
     "data": {
      "text/html": [
       "<div>\n",
       "<style scoped>\n",
       "    .dataframe tbody tr th:only-of-type {\n",
       "        vertical-align: middle;\n",
       "    }\n",
       "\n",
       "    .dataframe tbody tr th {\n",
       "        vertical-align: top;\n",
       "    }\n",
       "\n",
       "    .dataframe thead th {\n",
       "        text-align: right;\n",
       "    }\n",
       "</style>\n",
       "<table border=\"1\" class=\"dataframe\">\n",
       "  <thead>\n",
       "    <tr style=\"text-align: right;\">\n",
       "      <th></th>\n",
       "      <th>Serie1</th>\n",
       "      <th>Serie2</th>\n",
       "      <th>Serie3</th>\n",
       "    </tr>\n",
       "  </thead>\n",
       "  <tbody>\n",
       "    <tr>\n",
       "      <th>0</th>\n",
       "      <td>-5</td>\n",
       "      <td>254.99</td>\n",
       "      <td>2.55</td>\n",
       "    </tr>\n",
       "    <tr>\n",
       "      <th>1</th>\n",
       "      <td>15</td>\n",
       "      <td>458.90</td>\n",
       "      <td>5.00</td>\n",
       "    </tr>\n",
       "    <tr>\n",
       "      <th>2</th>\n",
       "      <td>35</td>\n",
       "      <td>-369.99</td>\n",
       "      <td>-25.80</td>\n",
       "    </tr>\n",
       "  </tbody>\n",
       "</table>\n",
       "</div>"
      ],
      "text/plain": [
       "   Serie1  Serie2  Serie3\n",
       "0      -5  254.99    2.55\n",
       "1      15  458.90    5.00\n",
       "2      35 -369.99  -25.80"
      ]
     },
     "execution_count": 94,
     "metadata": {},
     "output_type": "execute_result"
    }
   ],
   "source": [
    "Ser1=pd.DataFrame([-5,15, 35])\n",
    "Ser2=pd.DataFrame([254.99, 458.90, -369.99 ])\n",
    "Ser3=pd.DataFrame({2.55,-25.8,5})\n",
    "C=pd.concat([Ser1,Ser2,Ser3], axis=1)\n",
    "C.columns=['Serie1','Serie2','Serie3']\n",
    "C"
   ]
  },
  {
   "cell_type": "code",
   "execution_count": 95,
   "id": "6459873a",
   "metadata": {},
   "outputs": [
    {
     "data": {
      "text/plain": [
       "Serie1     45.00\n",
       "Serie2    343.90\n",
       "Serie3    -18.25\n",
       "dtype: float64"
      ]
     },
     "execution_count": 95,
     "metadata": {},
     "output_type": "execute_result"
    }
   ],
   "source": [
    "# Sumar valores de las columnas\n",
    "sumAxis0=C.sum(axis=0)\n",
    "sumAxis0"
   ]
  },
  {
   "cell_type": "code",
   "execution_count": 96,
   "id": "67309ccf",
   "metadata": {},
   "outputs": [
    {
     "data": {
      "text/plain": [
       "0    252.54\n",
       "1    478.90\n",
       "2   -360.79\n",
       "dtype: float64"
      ]
     },
     "execution_count": 96,
     "metadata": {},
     "output_type": "execute_result"
    }
   ],
   "source": [
    "# Sumar valores de las filas\n",
    "sumAxis1=C.sum(axis=1)\n",
    "sumAxis1"
   ]
  },
  {
   "cell_type": "code",
   "execution_count": 98,
   "id": "18992f76",
   "metadata": {},
   "outputs": [
    {
     "data": {
      "text/html": [
       "<div>\n",
       "<style scoped>\n",
       "    .dataframe tbody tr th:only-of-type {\n",
       "        vertical-align: middle;\n",
       "    }\n",
       "\n",
       "    .dataframe tbody tr th {\n",
       "        vertical-align: top;\n",
       "    }\n",
       "\n",
       "    .dataframe thead th {\n",
       "        text-align: right;\n",
       "    }\n",
       "</style>\n",
       "<table border=\"1\" class=\"dataframe\">\n",
       "  <thead>\n",
       "    <tr style=\"text-align: right;\">\n",
       "      <th></th>\n",
       "      <th>Alturas</th>\n",
       "      <th>Pesos</th>\n",
       "    </tr>\n",
       "  </thead>\n",
       "  <tbody>\n",
       "    <tr>\n",
       "      <th>0</th>\n",
       "      <td>0.564602</td>\n",
       "      <td>2.152863</td>\n",
       "    </tr>\n",
       "    <tr>\n",
       "      <th>1</th>\n",
       "      <td>2.860248</td>\n",
       "      <td>4.660189</td>\n",
       "    </tr>\n",
       "    <tr>\n",
       "      <th>2</th>\n",
       "      <td>3.339621</td>\n",
       "      <td>1.342223</td>\n",
       "    </tr>\n",
       "    <tr>\n",
       "      <th>3</th>\n",
       "      <td>2.042307</td>\n",
       "      <td>2.618019</td>\n",
       "    </tr>\n",
       "    <tr>\n",
       "      <th>4</th>\n",
       "      <td>0.701228</td>\n",
       "      <td>1.816268</td>\n",
       "    </tr>\n",
       "    <tr>\n",
       "      <th>5</th>\n",
       "      <td>0.464448</td>\n",
       "      <td>2.468988</td>\n",
       "    </tr>\n",
       "    <tr>\n",
       "      <th>6</th>\n",
       "      <td>1.868665</td>\n",
       "      <td>1.416733</td>\n",
       "    </tr>\n",
       "    <tr>\n",
       "      <th>7</th>\n",
       "      <td>3.248851</td>\n",
       "      <td>2.075090</td>\n",
       "    </tr>\n",
       "  </tbody>\n",
       "</table>\n",
       "</div>"
      ],
      "text/plain": [
       "    Alturas     Pesos\n",
       "0  0.564602  2.152863\n",
       "1  2.860248  4.660189\n",
       "2  3.339621  1.342223\n",
       "3  2.042307  2.618019\n",
       "4  0.701228  1.816268\n",
       "5  0.464448  2.468988\n",
       "6  1.868665  1.416733\n",
       "7  3.248851  2.075090"
      ]
     },
     "execution_count": 98,
     "metadata": {},
     "output_type": "execute_result"
    }
   ],
   "source": [
    "D=list(np.random.normal(2,1,8)) # Crear lista\n",
    "D1=pd.DataFrame(D) # Crear DataFrame a partir de la lista\n",
    "E=list(np.random.normal(2,1,8))\n",
    "E1=pd.DataFrame(E)\n",
    "F=pd.concat([D1,E1],axis=1)\n",
    "F.columns=['Alturas','Pesos']\n",
    "F\n"
   ]
  },
  {
   "cell_type": "code",
   "execution_count": 99,
   "id": "b1fdb4ab",
   "metadata": {},
   "outputs": [
    {
     "data": {
      "text/plain": [
       "0    2.152863\n",
       "1    4.660189\n",
       "2    1.342223\n",
       "3    2.618019\n",
       "Name: Pesos, dtype: float64"
      ]
     },
     "execution_count": 99,
     "metadata": {},
     "output_type": "execute_result"
    }
   ],
   "source": [
    "# Si desea agrupar las 4 primeras filas de la columna Pesos, puede utilizar el método loc()\n",
    " \n",
    "Df_loc=F.loc[:3,'Pesos']\n",
    "Df_loc"
   ]
  },
  {
   "cell_type": "code",
   "execution_count": 100,
   "id": "c442057e",
   "metadata": {},
   "outputs": [
    {
     "data": {
      "text/plain": [
       "Alturas    0.464448\n",
       "Pesos      2.468988\n",
       "Name: 5, dtype: float64"
      ]
     },
     "execution_count": 100,
     "metadata": {},
     "output_type": "execute_result"
    }
   ],
   "source": [
    "# Si desea seleccionar un índice concreto del DataFrame, puede utilizar el método iloc()\n",
    "Df_iloc=F.loc[5]\n",
    "Df_iloc"
   ]
  },
  {
   "cell_type": "code",
   "execution_count": null,
   "id": "a50f169b",
   "metadata": {},
   "outputs": [],
   "source": []
  }
 ],
 "metadata": {
  "kernelspec": {
   "display_name": "Python 3 (ipykernel)",
   "language": "python",
   "name": "python3"
  },
  "language_info": {
   "codemirror_mode": {
    "name": "ipython",
    "version": 3
   },
   "file_extension": ".py",
   "mimetype": "text/x-python",
   "name": "python",
   "nbconvert_exporter": "python",
   "pygments_lexer": "ipython3",
   "version": "3.9.2"
  }
 },
 "nbformat": 4,
 "nbformat_minor": 5
}
