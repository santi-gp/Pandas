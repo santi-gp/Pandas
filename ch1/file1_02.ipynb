{
 "cells": [
  {
   "cell_type": "markdown",
   "id": "e56e9944",
   "metadata": {},
   "source": [
    "## Trabajar con archivos locales"
   ]
  },
  {
   "cell_type": "code",
   "execution_count": 1,
   "id": "31ea4b56",
   "metadata": {},
   "outputs": [],
   "source": [
    "import pandas as pd\n",
    "import matplotlib.pyplot as plt"
   ]
  },
  {
   "cell_type": "code",
   "execution_count": 2,
   "id": "800965b2",
   "metadata": {},
   "outputs": [
    {
     "data": {
      "text/html": [
       "<div>\n",
       "<style scoped>\n",
       "    .dataframe tbody tr th:only-of-type {\n",
       "        vertical-align: middle;\n",
       "    }\n",
       "\n",
       "    .dataframe tbody tr th {\n",
       "        vertical-align: top;\n",
       "    }\n",
       "\n",
       "    .dataframe thead th {\n",
       "        text-align: right;\n",
       "    }\n",
       "</style>\n",
       "<table border=\"1\" class=\"dataframe\">\n",
       "  <thead>\n",
       "    <tr style=\"text-align: right;\">\n",
       "      <th></th>\n",
       "      <th>description</th>\n",
       "      <th>rank</th>\n",
       "      <th>organizationName</th>\n",
       "      <th>state</th>\n",
       "      <th>studentPopulation</th>\n",
       "      <th>campusSetting</th>\n",
       "      <th>medianBaseSalary</th>\n",
       "      <th>longitude</th>\n",
       "      <th>latitude</th>\n",
       "      <th>website</th>\n",
       "      <th>...</th>\n",
       "      <th>yearFounded</th>\n",
       "      <th>stateCode</th>\n",
       "      <th>collegeType</th>\n",
       "      <th>carnegieClassification</th>\n",
       "      <th>studentFacultyRatio</th>\n",
       "      <th>totalStudentPop</th>\n",
       "      <th>undergradPop</th>\n",
       "      <th>totalGrantAid</th>\n",
       "      <th>percentOfStudentsFinAid</th>\n",
       "      <th>percentOfStudentsGrant</th>\n",
       "    </tr>\n",
       "  </thead>\n",
       "  <tbody>\n",
       "    <tr>\n",
       "      <th>0</th>\n",
       "      <td>A leading global research university, MIT attr...</td>\n",
       "      <td>1</td>\n",
       "      <td>Massachusetts Institute of Technology</td>\n",
       "      <td>MA</td>\n",
       "      <td>12195</td>\n",
       "      <td>Urban</td>\n",
       "      <td>173700.0</td>\n",
       "      <td>-71.093539</td>\n",
       "      <td>42.359006</td>\n",
       "      <td>http://web.mit.edu</td>\n",
       "      <td>...</td>\n",
       "      <td>1861.0</td>\n",
       "      <td>MA</td>\n",
       "      <td>Private not-for-profit</td>\n",
       "      <td>Doctoral Universities: Very High Research Acti...</td>\n",
       "      <td>3</td>\n",
       "      <td>12195</td>\n",
       "      <td>4582</td>\n",
       "      <td>35299332.0</td>\n",
       "      <td>75.0</td>\n",
       "      <td>60.0</td>\n",
       "    </tr>\n",
       "    <tr>\n",
       "      <th>1</th>\n",
       "      <td>Stanford University sits just outside of Palo ...</td>\n",
       "      <td>2</td>\n",
       "      <td>Stanford University</td>\n",
       "      <td>CA</td>\n",
       "      <td>20961</td>\n",
       "      <td>Suburban</td>\n",
       "      <td>173500.0</td>\n",
       "      <td>-122.168924</td>\n",
       "      <td>37.431370</td>\n",
       "      <td>http://www.stanford.edu</td>\n",
       "      <td>...</td>\n",
       "      <td>1891.0</td>\n",
       "      <td>CA</td>\n",
       "      <td>Private not-for-profit</td>\n",
       "      <td>Doctoral Universities: Very High Research Acti...</td>\n",
       "      <td>4</td>\n",
       "      <td>20961</td>\n",
       "      <td>8464</td>\n",
       "      <td>51328461.0</td>\n",
       "      <td>70.0</td>\n",
       "      <td>55.0</td>\n",
       "    </tr>\n",
       "    <tr>\n",
       "      <th>2</th>\n",
       "      <td>One of the top public universities in the coun...</td>\n",
       "      <td>2</td>\n",
       "      <td>University of California, Berkeley</td>\n",
       "      <td>CA</td>\n",
       "      <td>45878</td>\n",
       "      <td>Urban</td>\n",
       "      <td>154500.0</td>\n",
       "      <td>-122.258393</td>\n",
       "      <td>37.869236</td>\n",
       "      <td>http://www.berkeley.edu</td>\n",
       "      <td>...</td>\n",
       "      <td>1868.0</td>\n",
       "      <td>CA</td>\n",
       "      <td>Public</td>\n",
       "      <td>Doctoral Universities: Very High Research Acti...</td>\n",
       "      <td>19</td>\n",
       "      <td>45878</td>\n",
       "      <td>33208</td>\n",
       "      <td>64495611.0</td>\n",
       "      <td>63.0</td>\n",
       "      <td>53.0</td>\n",
       "    </tr>\n",
       "    <tr>\n",
       "      <th>3</th>\n",
       "      <td>Princeton is a leading private research univer...</td>\n",
       "      <td>4</td>\n",
       "      <td>Princeton University</td>\n",
       "      <td>NJ</td>\n",
       "      <td>8532</td>\n",
       "      <td>Urban</td>\n",
       "      <td>167600.0</td>\n",
       "      <td>-74.659119</td>\n",
       "      <td>40.349855</td>\n",
       "      <td>http://www.princeton.edu</td>\n",
       "      <td>...</td>\n",
       "      <td>1746.0</td>\n",
       "      <td>NJ</td>\n",
       "      <td>Private not-for-profit</td>\n",
       "      <td>Doctoral Universities: Very High Research Acti...</td>\n",
       "      <td>4</td>\n",
       "      <td>8532</td>\n",
       "      <td>5516</td>\n",
       "      <td>44871096.0</td>\n",
       "      <td>62.0</td>\n",
       "      <td>61.0</td>\n",
       "    </tr>\n",
       "    <tr>\n",
       "      <th>4</th>\n",
       "      <td>Located in upper Manhattan, Columbia Universit...</td>\n",
       "      <td>5</td>\n",
       "      <td>Columbia University</td>\n",
       "      <td>NY</td>\n",
       "      <td>33882</td>\n",
       "      <td>Urban</td>\n",
       "      <td>148800.0</td>\n",
       "      <td>-73.961288</td>\n",
       "      <td>40.806515</td>\n",
       "      <td>http://www.columbia.edu</td>\n",
       "      <td>...</td>\n",
       "      <td>1754.0</td>\n",
       "      <td>NY</td>\n",
       "      <td>Private not-for-profit</td>\n",
       "      <td>Doctoral Universities: Very High Research Acti...</td>\n",
       "      <td>6</td>\n",
       "      <td>33882</td>\n",
       "      <td>8689</td>\n",
       "      <td>44615007.0</td>\n",
       "      <td>58.0</td>\n",
       "      <td>54.0</td>\n",
       "    </tr>\n",
       "  </tbody>\n",
       "</table>\n",
       "<p>5 rows × 25 columns</p>\n",
       "</div>"
      ],
      "text/plain": [
       "                                         description  rank  \\\n",
       "0  A leading global research university, MIT attr...     1   \n",
       "1  Stanford University sits just outside of Palo ...     2   \n",
       "2  One of the top public universities in the coun...     2   \n",
       "3  Princeton is a leading private research univer...     4   \n",
       "4  Located in upper Manhattan, Columbia Universit...     5   \n",
       "\n",
       "                        organizationName state  studentPopulation  \\\n",
       "0  Massachusetts Institute of Technology    MA              12195   \n",
       "1                    Stanford University    CA              20961   \n",
       "2     University of California, Berkeley    CA              45878   \n",
       "3                   Princeton University    NJ               8532   \n",
       "4                    Columbia University    NY              33882   \n",
       "\n",
       "  campusSetting  medianBaseSalary   longitude   latitude  \\\n",
       "0         Urban          173700.0  -71.093539  42.359006   \n",
       "1      Suburban          173500.0 -122.168924  37.431370   \n",
       "2         Urban          154500.0 -122.258393  37.869236   \n",
       "3         Urban          167600.0  -74.659119  40.349855   \n",
       "4         Urban          148800.0  -73.961288  40.806515   \n",
       "\n",
       "                    website  ... yearFounded stateCode  \\\n",
       "0        http://web.mit.edu  ...      1861.0        MA   \n",
       "1   http://www.stanford.edu  ...      1891.0        CA   \n",
       "2   http://www.berkeley.edu  ...      1868.0        CA   \n",
       "3  http://www.princeton.edu  ...      1746.0        NJ   \n",
       "4   http://www.columbia.edu  ...      1754.0        NY   \n",
       "\n",
       "              collegeType                             carnegieClassification  \\\n",
       "0  Private not-for-profit  Doctoral Universities: Very High Research Acti...   \n",
       "1  Private not-for-profit  Doctoral Universities: Very High Research Acti...   \n",
       "2                  Public  Doctoral Universities: Very High Research Acti...   \n",
       "3  Private not-for-profit  Doctoral Universities: Very High Research Acti...   \n",
       "4  Private not-for-profit  Doctoral Universities: Very High Research Acti...   \n",
       "\n",
       "  studentFacultyRatio  totalStudentPop undergradPop totalGrantAid  \\\n",
       "0                   3            12195         4582    35299332.0   \n",
       "1                   4            20961         8464    51328461.0   \n",
       "2                  19            45878        33208    64495611.0   \n",
       "3                   4             8532         5516    44871096.0   \n",
       "4                   6            33882         8689    44615007.0   \n",
       "\n",
       "  percentOfStudentsFinAid  percentOfStudentsGrant  \n",
       "0                    75.0                    60.0  \n",
       "1                    70.0                    55.0  \n",
       "2                    63.0                    53.0  \n",
       "3                    62.0                    61.0  \n",
       "4                    58.0                    54.0  \n",
       "\n",
       "[5 rows x 25 columns]"
      ]
     },
     "execution_count": 2,
     "metadata": {},
     "output_type": "execute_result"
    }
   ],
   "source": [
    "#studentDf=pd.read_csv(\"../../DataSet/student-por.csv\",delimiter=';')\n",
    "collegesDf=pd.read_csv(\"../../DataSet/top_colleges_2022.csv\",delimiter=',')\n",
    "collegesDf.head()\n",
    "#collegesDf"
   ]
  },
  {
   "cell_type": "markdown",
   "id": "022cf884",
   "metadata": {},
   "source": [
    "#### Conocer tipo de datos"
   ]
  },
  {
   "cell_type": "code",
   "execution_count": 3,
   "id": "9d41a1fd",
   "metadata": {},
   "outputs": [
    {
     "data": {
      "text/plain": [
       "description                 object\n",
       "rank                         int64\n",
       "organizationName            object\n",
       "state                       object\n",
       "studentPopulation            int64\n",
       "campusSetting               object\n",
       "medianBaseSalary           float64\n",
       "longitude                  float64\n",
       "latitude                   float64\n",
       "website                     object\n",
       "phoneNumber                 object\n",
       "city                        object\n",
       "country                     object\n",
       "state.1                     object\n",
       "region                      object\n",
       "yearFounded                float64\n",
       "stateCode                   object\n",
       "collegeType                 object\n",
       "carnegieClassification      object\n",
       "studentFacultyRatio          int64\n",
       "totalStudentPop              int64\n",
       "undergradPop                 int64\n",
       "totalGrantAid              float64\n",
       "percentOfStudentsFinAid    float64\n",
       "percentOfStudentsGrant     float64\n",
       "dtype: object"
      ]
     },
     "execution_count": 3,
     "metadata": {},
     "output_type": "execute_result"
    }
   ],
   "source": [
    "## Se muestran dos tipos de datos, object que es un string ,int64 que es un valor entero y float número decimal\n",
    "collegesDf.dtypes"
   ]
  },
  {
   "cell_type": "markdown",
   "id": "ca2ee85f",
   "metadata": {},
   "source": [
    "#### Información sobre el tipo de datos de DataFrame"
   ]
  },
  {
   "cell_type": "code",
   "execution_count": 4,
   "id": "bb237a82",
   "metadata": {},
   "outputs": [
    {
     "name": "stdout",
     "output_type": "stream",
     "text": [
      "<class 'pandas.core.frame.DataFrame'>\n",
      "RangeIndex: 498 entries, 0 to 497\n",
      "Data columns (total 25 columns):\n",
      " #   Column                   Non-Null Count  Dtype  \n",
      "---  ------                   --------------  -----  \n",
      " 0   description              498 non-null    object \n",
      " 1   rank                     498 non-null    int64  \n",
      " 2   organizationName         498 non-null    object \n",
      " 3   state                    498 non-null    object \n",
      " 4   studentPopulation        498 non-null    int64  \n",
      " 5   campusSetting            498 non-null    object \n",
      " 6   medianBaseSalary         491 non-null    float64\n",
      " 7   longitude                458 non-null    float64\n",
      " 8   latitude                 458 non-null    float64\n",
      " 9   website                  477 non-null    object \n",
      " 10  phoneNumber              428 non-null    object \n",
      " 11  city                     498 non-null    object \n",
      " 12  country                  498 non-null    object \n",
      " 13  state.1                  498 non-null    object \n",
      " 14  region                   489 non-null    object \n",
      " 15  yearFounded              451 non-null    float64\n",
      " 16  stateCode                489 non-null    object \n",
      " 17  collegeType              498 non-null    object \n",
      " 18  carnegieClassification   498 non-null    object \n",
      " 19  studentFacultyRatio      498 non-null    int64  \n",
      " 20  totalStudentPop          498 non-null    int64  \n",
      " 21  undergradPop             498 non-null    int64  \n",
      " 22  totalGrantAid            495 non-null    float64\n",
      " 23  percentOfStudentsFinAid  495 non-null    float64\n",
      " 24  percentOfStudentsGrant   495 non-null    float64\n",
      "dtypes: float64(7), int64(5), object(13)\n",
      "memory usage: 97.4+ KB\n"
     ]
    }
   ],
   "source": [
    "collegesDf.info()"
   ]
  },
  {
   "cell_type": "markdown",
   "id": "e58146be",
   "metadata": {},
   "source": [
    "#### Convertir Columna de nombre yearFounded  a int64 con la función 'astype'"
   ]
  },
  {
   "cell_type": "code",
   "execution_count": 5,
   "id": "1b5807c8",
   "metadata": {},
   "outputs": [],
   "source": [
    "# La opcion fillna(0) nos permite reemplazar valore NAN por 0, pues la columna \n",
    "#  'yearFounded' solo tiene 451 no nulos del total de 498\n",
    "# collegesDf['yearFounded']=collegesDf['yearFounded'].astype('int')\n",
    "#  si 'yearFounded' tuviese 498 no nulos\n",
    "collegesDf['yearFounded']=collegesDf['yearFounded'].fillna(0).astype('int')"
   ]
  },
  {
   "cell_type": "code",
   "execution_count": 34,
   "id": "c0822146",
   "metadata": {},
   "outputs": [
    {
     "name": "stdout",
     "output_type": "stream",
     "text": [
      "<class 'pandas.core.frame.DataFrame'>\n",
      "RangeIndex: 498 entries, 0 to 497\n",
      "Data columns (total 25 columns):\n",
      " #   Column                   Non-Null Count  Dtype  \n",
      "---  ------                   --------------  -----  \n",
      " 0   description              498 non-null    object \n",
      " 1   rank                     498 non-null    int64  \n",
      " 2   organizationName         498 non-null    object \n",
      " 3   state                    498 non-null    object \n",
      " 4   studentPopulation        498 non-null    int64  \n",
      " 5   campusSetting            498 non-null    object \n",
      " 6   medianBaseSalary         491 non-null    float64\n",
      " 7   longitude                458 non-null    float64\n",
      " 8   latitude                 458 non-null    float64\n",
      " 9   website                  477 non-null    object \n",
      " 10  phoneNumber              428 non-null    object \n",
      " 11  city                     498 non-null    object \n",
      " 12  country                  498 non-null    object \n",
      " 13  state.1                  498 non-null    object \n",
      " 14  region                   489 non-null    object \n",
      " 15  yearFounded              498 non-null    int64  \n",
      " 16  stateCode                489 non-null    object \n",
      " 17  collegeType              498 non-null    object \n",
      " 18  carnegieClassification   498 non-null    object \n",
      " 19  studentFacultyRatio      498 non-null    int64  \n",
      " 20  totalStudentPop          498 non-null    int64  \n",
      " 21  undergradPop             498 non-null    int64  \n",
      " 22  totalGrantAid            495 non-null    float64\n",
      " 23  percentOfStudentsFinAid  495 non-null    float64\n",
      " 24  percentOfStudentsGrant   495 non-null    float64\n",
      "dtypes: float64(6), int64(6), object(13)\n",
      "memory usage: 97.4+ KB\n"
     ]
    }
   ],
   "source": [
    "#collegesDf.head()\n",
    "collegesDf.info()"
   ]
  },
  {
   "cell_type": "markdown",
   "id": "f8570f24",
   "metadata": {},
   "source": [
    "## Selección de datos"
   ]
  },
  {
   "cell_type": "code",
   "execution_count": 6,
   "id": "ec2e0f4f",
   "metadata": {},
   "outputs": [
    {
     "data": {
      "text/plain": [
       "0      1861\n",
       "1      1891\n",
       "2      1868\n",
       "3      1746\n",
       "4      1754\n",
       "       ... \n",
       "493    1916\n",
       "494    1742\n",
       "495       0\n",
       "496       0\n",
       "497    1912\n",
       "Name: yearFounded, Length: 498, dtype: int64"
      ]
     },
     "execution_count": 6,
     "metadata": {},
     "output_type": "execute_result"
    }
   ],
   "source": [
    "# seleccionaremos la columna 'yearFounded' y se verá que hay 498 no nulos\n",
    "yearFoundedDf=collegesDf['yearFounded']\n",
    "yearFoundedDf"
   ]
  },
  {
   "cell_type": "markdown",
   "id": "4c60d2f7",
   "metadata": {},
   "source": [
    "#### Extracción de varias columnas de DataFrame"
   ]
  },
  {
   "cell_type": "code",
   "execution_count": 7,
   "id": "e622b4f4",
   "metadata": {},
   "outputs": [
    {
     "data": {
      "text/html": [
       "<div>\n",
       "<style scoped>\n",
       "    .dataframe tbody tr th:only-of-type {\n",
       "        vertical-align: middle;\n",
       "    }\n",
       "\n",
       "    .dataframe tbody tr th {\n",
       "        vertical-align: top;\n",
       "    }\n",
       "\n",
       "    .dataframe thead th {\n",
       "        text-align: right;\n",
       "    }\n",
       "</style>\n",
       "<table border=\"1\" class=\"dataframe\">\n",
       "  <thead>\n",
       "    <tr style=\"text-align: right;\">\n",
       "      <th></th>\n",
       "      <th>organizationName</th>\n",
       "      <th>rank</th>\n",
       "      <th>collegeType</th>\n",
       "    </tr>\n",
       "  </thead>\n",
       "  <tbody>\n",
       "    <tr>\n",
       "      <th>0</th>\n",
       "      <td>Massachusetts Institute of Technology</td>\n",
       "      <td>1</td>\n",
       "      <td>Private not-for-profit</td>\n",
       "    </tr>\n",
       "    <tr>\n",
       "      <th>1</th>\n",
       "      <td>Stanford University</td>\n",
       "      <td>2</td>\n",
       "      <td>Private not-for-profit</td>\n",
       "    </tr>\n",
       "    <tr>\n",
       "      <th>2</th>\n",
       "      <td>University of California, Berkeley</td>\n",
       "      <td>2</td>\n",
       "      <td>Public</td>\n",
       "    </tr>\n",
       "    <tr>\n",
       "      <th>3</th>\n",
       "      <td>Princeton University</td>\n",
       "      <td>4</td>\n",
       "      <td>Private not-for-profit</td>\n",
       "    </tr>\n",
       "    <tr>\n",
       "      <th>4</th>\n",
       "      <td>Columbia University</td>\n",
       "      <td>5</td>\n",
       "      <td>Private not-for-profit</td>\n",
       "    </tr>\n",
       "  </tbody>\n",
       "</table>\n",
       "</div>"
      ],
      "text/plain": [
       "                        organizationName  rank             collegeType\n",
       "0  Massachusetts Institute of Technology     1  Private not-for-profit\n",
       "1                    Stanford University     2  Private not-for-profit\n",
       "2     University of California, Berkeley     2                  Public\n",
       "3                   Princeton University     4  Private not-for-profit\n",
       "4                    Columbia University     5  Private not-for-profit"
      ]
     },
     "execution_count": 7,
     "metadata": {},
     "output_type": "execute_result"
    }
   ],
   "source": [
    "collegesDfSet1=collegesDf[['organizationName','rank','collegeType']]\n",
    "collegesDfSet1.head()"
   ]
  },
  {
   "cell_type": "code",
   "execution_count": 8,
   "id": "308ad17a",
   "metadata": {},
   "outputs": [
    {
     "data": {
      "text/html": [
       "<div>\n",
       "<style scoped>\n",
       "    .dataframe tbody tr th:only-of-type {\n",
       "        vertical-align: middle;\n",
       "    }\n",
       "\n",
       "    .dataframe tbody tr th {\n",
       "        vertical-align: top;\n",
       "    }\n",
       "\n",
       "    .dataframe thead th {\n",
       "        text-align: right;\n",
       "    }\n",
       "</style>\n",
       "<table border=\"1\" class=\"dataframe\">\n",
       "  <thead>\n",
       "    <tr style=\"text-align: right;\">\n",
       "      <th></th>\n",
       "      <th>organizationName</th>\n",
       "      <th>rank</th>\n",
       "      <th>collegeType</th>\n",
       "    </tr>\n",
       "  </thead>\n",
       "  <tbody>\n",
       "    <tr>\n",
       "      <th>0</th>\n",
       "      <td>Massachusetts Institute of Technology</td>\n",
       "      <td>1</td>\n",
       "      <td>Private not-for-profit</td>\n",
       "    </tr>\n",
       "    <tr>\n",
       "      <th>1</th>\n",
       "      <td>Stanford University</td>\n",
       "      <td>2</td>\n",
       "      <td>Private not-for-profit</td>\n",
       "    </tr>\n",
       "    <tr>\n",
       "      <th>2</th>\n",
       "      <td>University of California, Berkeley</td>\n",
       "      <td>2</td>\n",
       "      <td>Public</td>\n",
       "    </tr>\n",
       "    <tr>\n",
       "      <th>3</th>\n",
       "      <td>Princeton University</td>\n",
       "      <td>4</td>\n",
       "      <td>Private not-for-profit</td>\n",
       "    </tr>\n",
       "    <tr>\n",
       "      <th>4</th>\n",
       "      <td>Columbia University</td>\n",
       "      <td>5</td>\n",
       "      <td>Private not-for-profit</td>\n",
       "    </tr>\n",
       "    <tr>\n",
       "      <th>5</th>\n",
       "      <td>University of California, Los Angeles</td>\n",
       "      <td>6</td>\n",
       "      <td>Public</td>\n",
       "    </tr>\n",
       "    <tr>\n",
       "      <th>6</th>\n",
       "      <td>Williams College</td>\n",
       "      <td>7</td>\n",
       "      <td>Private not-for-profit</td>\n",
       "    </tr>\n",
       "    <tr>\n",
       "      <th>7</th>\n",
       "      <td>Yale University</td>\n",
       "      <td>8</td>\n",
       "      <td>Private not-for-profit</td>\n",
       "    </tr>\n",
       "    <tr>\n",
       "      <th>8</th>\n",
       "      <td>Duke University</td>\n",
       "      <td>9</td>\n",
       "      <td>Private not-for-profit</td>\n",
       "    </tr>\n",
       "    <tr>\n",
       "      <th>9</th>\n",
       "      <td>University of Pennsylvania</td>\n",
       "      <td>10</td>\n",
       "      <td>Private not-for-profit</td>\n",
       "    </tr>\n",
       "    <tr>\n",
       "      <th>10</th>\n",
       "      <td>Northwestern University</td>\n",
       "      <td>11</td>\n",
       "      <td>Private not-for-profit</td>\n",
       "    </tr>\n",
       "    <tr>\n",
       "      <th>11</th>\n",
       "      <td>Rice University</td>\n",
       "      <td>12</td>\n",
       "      <td>Private not-for-profit</td>\n",
       "    </tr>\n",
       "    <tr>\n",
       "      <th>12</th>\n",
       "      <td>Vanderbilt University</td>\n",
       "      <td>13</td>\n",
       "      <td>Private not-for-profit</td>\n",
       "    </tr>\n",
       "  </tbody>\n",
       "</table>\n",
       "</div>"
      ],
      "text/plain": [
       "                         organizationName  rank             collegeType\n",
       "0   Massachusetts Institute of Technology     1  Private not-for-profit\n",
       "1                     Stanford University     2  Private not-for-profit\n",
       "2      University of California, Berkeley     2                  Public\n",
       "3                    Princeton University     4  Private not-for-profit\n",
       "4                     Columbia University     5  Private not-for-profit\n",
       "5   University of California, Los Angeles     6                  Public\n",
       "6                        Williams College     7  Private not-for-profit\n",
       "7                         Yale University     8  Private not-for-profit\n",
       "8                         Duke University     9  Private not-for-profit\n",
       "9              University of Pennsylvania    10  Private not-for-profit\n",
       "10                Northwestern University    11  Private not-for-profit\n",
       "11                        Rice University    12  Private not-for-profit\n",
       "12                  Vanderbilt University    13  Private not-for-profit"
      ]
     },
     "execution_count": 8,
     "metadata": {},
     "output_type": "execute_result"
    }
   ],
   "source": [
    "# se mostrará 25 filas\n",
    "collegesDfSet2=collegesDf.loc[:12,['organizationName','rank','collegeType']]\n",
    "collegesDfSet2"
   ]
  },
  {
   "cell_type": "code",
   "execution_count": 9,
   "id": "8d3ed367",
   "metadata": {},
   "outputs": [
    {
     "data": {
      "text/plain": [
       "(13, 3)"
      ]
     },
     "execution_count": 9,
     "metadata": {},
     "output_type": "execute_result"
    }
   ],
   "source": [
    "collegesDfSet2.shape"
   ]
  },
  {
   "cell_type": "markdown",
   "id": "078b7011",
   "metadata": {},
   "source": [
    "## Transformación de datos"
   ]
  },
  {
   "cell_type": "code",
   "execution_count": 10,
   "id": "d9fe2215",
   "metadata": {},
   "outputs": [
    {
     "data": {
      "text/plain": [
       "collegeType\n",
       "Private not-for-profit    270\n",
       "Public                    228\n",
       "Name: collegeType, dtype: int64"
      ]
     },
     "execution_count": 10,
     "metadata": {},
     "output_type": "execute_result"
    }
   ],
   "source": [
    "# Agrupar por tipo de universidades, públicas y privadas\n",
    "collegesDfSet3=collegesDf.groupby(['collegeType'])['collegeType'].agg('count')\n",
    "# Alternativa\n",
    "  # collegesDfSet3=collegesDf.groupby(['collegeType'])['collegeType'].count()\n",
    "collegesDfSet3"
   ]
  },
  {
   "cell_type": "markdown",
   "id": "e958f07b",
   "metadata": {},
   "source": [
    "#### Gráficar studentDfSet3"
   ]
  },
  {
   "cell_type": "code",
   "execution_count": 11,
   "id": "b973b627",
   "metadata": {},
   "outputs": [
    {
     "data": {
      "text/plain": [
       "['Private not-for-profit', 'Public']"
      ]
     },
     "execution_count": 11,
     "metadata": {},
     "output_type": "execute_result"
    }
   ],
   "source": [
    "x=list(collegesDfSet3.index)\n",
    "x"
   ]
  },
  {
   "cell_type": "code",
   "execution_count": 12,
   "id": "20ee8a2e",
   "metadata": {},
   "outputs": [
    {
     "data": {
      "text/plain": [
       "array([270, 228])"
      ]
     },
     "execution_count": 12,
     "metadata": {},
     "output_type": "execute_result"
    }
   ],
   "source": [
    "y=collegesDfSet3.values\n",
    "y"
   ]
  },
  {
   "cell_type": "code",
   "execution_count": 13,
   "id": "53e12211",
   "metadata": {},
   "outputs": [
    {
     "data": {
      "image/png": "[encoded data removed]",
      "text/plain": [
       "<Figure size 640x480 with 1 Axes>"
      ]
     },
     "metadata": {},
     "output_type": "display_data"
    }
   ],
   "source": [
    "plt.bar(x,y,color='purple') # histograma\n",
    "plt.title('Distribución de universidades por tipo')\n",
    "plt.xlabel('Tipo de universidad')\n",
    "plt.ylabel('Número de universidades')\n",
    "plt.show()"
   ]
  },
  {
   "cell_type": "markdown",
   "id": "ac555743",
   "metadata": {},
   "source": [
    "####  Función apply, utilizaremos una función definida por el usuario y la función 'lambda' de pandas"
   ]
  },
  {
   "cell_type": "code",
   "execution_count": 15,
   "id": "56778a7a",
   "metadata": {},
   "outputs": [
    {
     "data": {
      "text/html": [
       "<div>\n",
       "<style scoped>\n",
       "    .dataframe tbody tr th:only-of-type {\n",
       "        vertical-align: middle;\n",
       "    }\n",
       "\n",
       "    .dataframe tbody tr th {\n",
       "        vertical-align: top;\n",
       "    }\n",
       "\n",
       "    .dataframe thead th {\n",
       "        text-align: right;\n",
       "    }\n",
       "</style>\n",
       "<table border=\"1\" class=\"dataframe\">\n",
       "  <thead>\n",
       "    <tr style=\"text-align: right;\">\n",
       "      <th></th>\n",
       "      <th>percentOfStudentsFinAid</th>\n",
       "      <th>percentOfStudentsGrant</th>\n",
       "    </tr>\n",
       "  </thead>\n",
       "  <tbody>\n",
       "    <tr>\n",
       "      <th>0</th>\n",
       "      <td>0.75</td>\n",
       "      <td>0.60</td>\n",
       "    </tr>\n",
       "    <tr>\n",
       "      <th>1</th>\n",
       "      <td>0.70</td>\n",
       "      <td>0.55</td>\n",
       "    </tr>\n",
       "    <tr>\n",
       "      <th>2</th>\n",
       "      <td>0.63</td>\n",
       "      <td>0.53</td>\n",
       "    </tr>\n",
       "    <tr>\n",
       "      <th>3</th>\n",
       "      <td>0.62</td>\n",
       "      <td>0.61</td>\n",
       "    </tr>\n",
       "    <tr>\n",
       "      <th>4</th>\n",
       "      <td>0.58</td>\n",
       "      <td>0.54</td>\n",
       "    </tr>\n",
       "  </tbody>\n",
       "</table>\n",
       "</div>"
      ],
      "text/plain": [
       "   percentOfStudentsFinAid  percentOfStudentsGrant\n",
       "0                     0.75                    0.60\n",
       "1                     0.70                    0.55\n",
       "2                     0.63                    0.53\n",
       "3                     0.62                    0.61\n",
       "4                     0.58                    0.54"
      ]
     },
     "execution_count": 15,
     "metadata": {},
     "output_type": "execute_result"
    }
   ],
   "source": [
    "#  función definida por el usuario\n",
    "def myFunc(x):\n",
    "    return x/100\n",
    "collegesDfSet4=collegesDf[['percentOfStudentsFinAid','percentOfStudentsGrant']].apply(myFunc)\n",
    "collegesDfSet4.head()"
   ]
  },
  {
   "cell_type": "code",
   "execution_count": 16,
   "id": "55a160d3",
   "metadata": {},
   "outputs": [
    {
     "data": {
      "text/html": [
       "<div>\n",
       "<style scoped>\n",
       "    .dataframe tbody tr th:only-of-type {\n",
       "        vertical-align: middle;\n",
       "    }\n",
       "\n",
       "    .dataframe tbody tr th {\n",
       "        vertical-align: top;\n",
       "    }\n",
       "\n",
       "    .dataframe thead th {\n",
       "        text-align: right;\n",
       "    }\n",
       "</style>\n",
       "<table border=\"1\" class=\"dataframe\">\n",
       "  <thead>\n",
       "    <tr style=\"text-align: right;\">\n",
       "      <th></th>\n",
       "      <th>percentOfStudentsFinAid</th>\n",
       "      <th>percentOfStudentsGrant</th>\n",
       "    </tr>\n",
       "  </thead>\n",
       "  <tbody>\n",
       "    <tr>\n",
       "      <th>493</th>\n",
       "      <td>0.99</td>\n",
       "      <td>0.99</td>\n",
       "    </tr>\n",
       "    <tr>\n",
       "      <th>494</th>\n",
       "      <td>1.00</td>\n",
       "      <td>1.00</td>\n",
       "    </tr>\n",
       "    <tr>\n",
       "      <th>495</th>\n",
       "      <td>0.97</td>\n",
       "      <td>0.96</td>\n",
       "    </tr>\n",
       "    <tr>\n",
       "      <th>496</th>\n",
       "      <td>0.99</td>\n",
       "      <td>0.99</td>\n",
       "    </tr>\n",
       "    <tr>\n",
       "      <th>497</th>\n",
       "      <td>0.98</td>\n",
       "      <td>0.97</td>\n",
       "    </tr>\n",
       "  </tbody>\n",
       "</table>\n",
       "</div>"
      ],
      "text/plain": [
       "     percentOfStudentsFinAid  percentOfStudentsGrant\n",
       "493                     0.99                    0.99\n",
       "494                     1.00                    1.00\n",
       "495                     0.97                    0.96\n",
       "496                     0.99                    0.99\n",
       "497                     0.98                    0.97"
      ]
     },
     "execution_count": 16,
     "metadata": {},
     "output_type": "execute_result"
    }
   ],
   "source": [
    "#  función definida por el usuario\n",
    "collegesDfSet5=collegesDf[['percentOfStudentsFinAid','percentOfStudentsGrant']].apply(lambda x:x/100)\n",
    "collegesDfSet5.tail()"
   ]
  },
  {
   "cell_type": "code",
   "execution_count": null,
   "id": "2bbf34a0",
   "metadata": {},
   "outputs": [],
   "source": []
  }
 ],
 "metadata": {
  "kernelspec": {
   "display_name": "Python 3 (ipykernel)",
   "language": "python",
   "name": "python3"
  },
  "language_info": {
   "codemirror_mode": {
    "name": "ipython",
    "version": 3
   },
   "file_extension": ".py",
   "mimetype": "text/x-python",
   "name": "python",
   "nbconvert_exporter": "python",
   "pygments_lexer": "ipython3",
   "version": "3.9.2"
  }
 },
 "nbformat": 4,
 "nbformat_minor": 5
}
